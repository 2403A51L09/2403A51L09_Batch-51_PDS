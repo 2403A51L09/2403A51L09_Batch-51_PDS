{
  "nbformat": 4,
  "nbformat_minor": 0,
  "metadata": {
    "colab": {
      "provenance": [],
      "authorship_tag": "ABX9TyPMxaNrZwgQ6/9KfDkhnP1H",
      "include_colab_link": true
    },
    "kernelspec": {
      "name": "python3",
      "display_name": "Python 3"
    },
    "language_info": {
      "name": "python"
    }
  },
  "cells": [
    {
      "cell_type": "markdown",
      "metadata": {
        "id": "view-in-github",
        "colab_type": "text"
      },
      "source": [
        "<a href=\"https://colab.research.google.com/github/2403A51L09/2403A51L09_Batch-51_PDS/blob/main/ASSIGNMENT_1.ipynb\" target=\"_parent\"><img src=\"https://colab.research.google.com/assets/colab-badge.svg\" alt=\"Open In Colab\"/></a>"
      ]
    },
    {
      "cell_type": "code",
      "source": [
        "#Factorial in Permutations and Arrangements\n",
        "\n",
        "from itertools import permutations as perm\n",
        "\n",
        "def factorial(n, steps):\n",
        "    if n == 0 or n == 1:\n",
        "        steps.append(f\"{n}! = 1\")\n",
        "        return 1\n",
        "    res = n * factorial(n - 1, steps)\n",
        "    steps.append(f\"{n}! = {n} × {n-1}! = {res}\")\n",
        "    return res\n",
        "\n",
        "def permutations_calc(n, r):\n",
        "    if n < r:\n",
        "        return \"Error: n must be ≥ r\"\n",
        "\n",
        "    steps_n, steps_nr = [], []\n",
        "    fact_n = factorial(n, steps_n)\n",
        "    fact_n_minus_r = factorial(n - r, steps_nr)\n",
        "\n",
        "    print(\"\\nFactorial steps for n:\")\n",
        "    for s in steps_n: print(\" \", s)\n",
        "    print(\"\\nFactorial steps for (n-r):\")\n",
        "    for s in steps_nr: print(\" \", s)\n",
        "\n",
        "    result = fact_n // fact_n_minus_r\n",
        "    print(f\"\\nPermutation (nPr) = {n}! / ({n}-{r})! = {fact_n} / {fact_n_minus_r} = {result}\\n\")\n",
        "    return result\n",
        "\n",
        "n = int(input(\"Enter total number of people (n): \"))\n",
        "r = int(input(\"Enter number of places (r): \"))\n",
        "permutations_calc(n, r)\n"
      ],
      "metadata": {
        "colab": {
          "base_uri": "https://localhost:8080/"
        },
        "id": "-IKr0N5WdR6z",
        "outputId": "ef4885b6-3fdc-4fac-d1b1-ba386b3994e7"
      },
      "execution_count": 10,
      "outputs": [
        {
          "output_type": "stream",
          "name": "stdout",
          "text": [
            "Enter total number of people (n): 5\n",
            "Enter number of places (r): 3\n",
            "\n",
            "Factorial steps for n:\n",
            "  1! = 1\n",
            "  2! = 2 × 1! = 2\n",
            "  3! = 3 × 2! = 6\n",
            "  4! = 4 × 3! = 24\n",
            "  5! = 5 × 4! = 120\n",
            "\n",
            "Factorial steps for (n-r):\n",
            "  1! = 1\n",
            "  2! = 2 × 1! = 2\n",
            "\n",
            "Permutation (nPr) = 5! / (5-3)! = 120 / 2 = 60\n",
            "\n"
          ]
        },
        {
          "output_type": "execute_result",
          "data": {
            "text/plain": [
              "60"
            ]
          },
          "metadata": {},
          "execution_count": 10
        }
      ]
    },
    {
      "cell_type": "code",
      "source": [
        "#Large Factorials – Performance Limitations\n",
        "\n",
        "import sys\n",
        "\n",
        "def recursive_factorial(n):\n",
        "    if n == 0 or n == 1:\n",
        "        return 1\n",
        "    return n * recursive_factorial(n - 1)\n",
        "\n",
        "def iterative_factorial(n):\n",
        "    result = 1\n",
        "    for i in range(1, n + 1):\n",
        "        result *= i\n",
        "    return result\n",
        "\n",
        "def main():\n",
        "    print(\"Max recursion depth:\", sys.getrecursionlimit())\n",
        "    n = int(input(\"Enter a number: \"))\n",
        "\n",
        "    if n > 998:\n",
        "        print(\"Warning: This may exceed Python's recursion limit!\")\n",
        "\n",
        "    try:\n",
        "        print(\"\\nRecursive factorial:\")\n",
        "        rec_result = recursive_factorial(n)\n",
        "        print(rec_result)\n",
        "    except RecursionError:\n",
        "        print(\"RecursionError: Too deep recursion.\")\n",
        "        rec_result = None\n",
        "\n",
        "    print(\"\\nIterative factorial:\")\n",
        "    iter_result = iterative_factorial(n)\n",
        "    print(iter_result)\n",
        "\n",
        "    if rec_result is not None:\n",
        "        print(\"Results match:\", rec_result == iter_result)\n",
        "    else:\n",
        "        print(\"Used iterative approach due to recursion limits.\")\n",
        "\n",
        "if __name__ == \"__main__\":\n",
        "    main()\n",
        "\n"
      ],
      "metadata": {
        "colab": {
          "base_uri": "https://localhost:8080/"
        },
        "id": "KfBlBH7BdkvE",
        "outputId": "6d8ea714-ea81-4862-8de1-fa8da3770a03"
      },
      "execution_count": 13,
      "outputs": [
        {
          "output_type": "stream",
          "name": "stdout",
          "text": [
            "Max recursion depth: 1000\n",
            "Enter a number: 1001\n",
            "Warning: This may exceed Python's recursion limit!\n",
            "\n",
            "Recursive factorial:\n",
            "RecursionError: Too deep recursion.\n",
            "\n",
            "Iterative factorial:\n",
            "402789647337170867317246136356926989705094239074925347176343710340368450911027649612636252695456374205280468598807393254690298539867803367460225153499614535588421928591160833678742451354915921252299285456946271396995850437959540645019696372741142787347450281325324373824456300226871609431497826989489109522725791691167945698509282421538632966523376679891823696900982075223188279465194065489111498586522997573307838057934994706212934291477882221464914058745808179795130018969175605739824237247684512790169648013778158661520384916357285547219660337504067910087936301580874662367543921288988208261944834178369169805682489420504038334529389177845089679546075023305854006141256288633820079940395329251563788399404652902154519302928365169452383531030755684578503851488154092323576150311569325891190105926118761607100286827930472944913272420825078912158741589850136017030887975452922434889688775883386977825215904423682478943313806072144097432418695807412571292308739802481089407002523955080148184062810447564594783139830113821372260474145316521647368313934670783858482781506915288378941348078689691815657785305896912277993200639858696294199549107738635599538328374931258525869323348477334798827676297868823693023377418942304272267800509765805435653787530370118261219994752588866451072715583785495394684524593296728611334955079882857173250037068541860372512693170819259309411027837176612444692649174536429745421086287708588130082168792750697158901737130221751430550976429258055277255676893874108456870904122902259417224707137723406125811549952159629766771063079472679280213882978523785424760309678138268708239764925768714349554665438389311198715040908077757086900159389712443987670244241787904585093011546861502058550090914877900852701619648229332192401075747543562989953271508977501771085759521631427816116191761031257454497039673414248149210836002497114107565960458576525212556159634975715552638678172137468172843066451093984443636560722213668172225585711566558134467392654185460222589723312097599987253417831473939565071006344352518096564427781204200068323913056897090916602712260306869786107237077572445866572945760977721639408338430009976028970539150822336553856613962747814621747092348996915755983464741082000337526945990059365493439921937093368896754791416759604324895514660325913157843796039917819613717350380997781225472000000000000000000000000000000000000000000000000000000000000000000000000000000000000000000000000000000000000000000000000000000000000000000000000000000000000000000000000000000000000000000000000000000000000000000000000000000000000000000000000000000000\n",
            "Used iterative approach due to recursion limits.\n"
          ]
        }
      ]
    }
  ]
}